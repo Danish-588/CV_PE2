{
  "cells": [
    {
      "cell_type": "code",
      "execution_count": 30,
      "metadata": {},
      "outputs": [],
      "source": [
        "import cv2\n",
        "import numpy as np\n",
        "import matplotlib.pyplot as plt"
      ]
    },
    {
      "cell_type": "markdown",
      "metadata": {},
      "source": [
        "\n",
        "\n",
        "### Generate an Image of Digit '9'\n"
      ]
    },
    {
      "cell_type": "code",
      "execution_count": 31,
      "metadata": {},
      "outputs": [
        {
          "data": {
            "image/png": "[encoded data removed]",
            "text/plain": [
              "<Figure size 500x500 with 1 Axes>"
            ]
          },
          "metadata": {},
          "output_type": "display_data"
        }
      ],
      "source": [
        "# Generate an image of digit '9'\n",
        "digit = np.zeros((100, 100), dtype=np.uint8)\n",
        "cv2.putText(digit, '9', (20, 80), cv2.FONT_HERSHEY_SIMPLEX, 2, 255, 5)\n",
        "\n",
        "# Visualize the generated image\n",
        "plt.figure(figsize=(5, 5))\n",
        "plt.imshow(digit, cmap='gray')\n",
        "plt.title('Generated Digit 5')\n",
        "plt.axis('off')\n",
        "plt.show()"
      ]
    },
    {
      "cell_type": "markdown",
      "metadata": {},
      "source": [
        "\n",
        "\n",
        "### Convert Image to Binary\n"
      ]
    },
    {
      "cell_type": "code",
      "execution_count": 32,
      "metadata": {},
      "outputs": [
        {
          "data": {
            "image/png": "[encoded data removed]",
            "text/plain": [
              "<Figure size 500x500 with 1 Axes>"
            ]
          },
          "metadata": {},
          "output_type": "display_data"
        }
      ],
      "source": [
        "# Convert image to binary\n",
        "ret, thresh = cv2.threshold(digit, 127, 255, cv2.THRESH_BINARY)\n",
        "\n",
        "# Visualize the binary image\n",
        "plt.figure(figsize=(5, 5))\n",
        "plt.imshow(thresh, cmap='gray')\n",
        "plt.title('Binary Image')\n",
        "plt.axis('off')\n",
        "plt.show()"
      ]
    },
    {
      "cell_type": "markdown",
      "metadata": {},
      "source": [
        "\n",
        "\n",
        "### Find Contours\n"
      ]
    },
    {
      "cell_type": "code",
      "execution_count": 33,
      "metadata": {},
      "outputs": [
        {
          "data": {
            "image/png": "[encoded data removed]",
            "text/plain": [
              "<Figure size 500x500 with 1 Axes>"
            ]
          },
          "metadata": {},
          "output_type": "display_data"
        }
      ],
      "source": [
        "# Find contours\n",
        "contours, _ = cv2.findContours(thresh, cv2.RETR_EXTERNAL, cv2.CHAIN_APPROX_NONE)\n",
        "\n",
        "# Visualize the contours\n",
        "border_image = cv2.cvtColor(digit, cv2.COLOR_GRAY2BGR)\n",
        "cv2.drawContours(border_image, contours, -1, (0, 255, 0), 1)\n",
        "\n",
        "plt.figure(figsize=(5, 5))\n",
        "plt.imshow(border_image)\n",
        "plt.title('Contours')\n",
        "plt.axis('off')\n",
        "plt.show()"
      ]
    },
    {
      "cell_type": "markdown",
      "metadata": {},
      "source": [
        "\n",
        "\n",
        "### Calculate Chain Code\n"
      ]
    },
    {
      "cell_type": "code",
      "execution_count": 34,
      "metadata": {},
      "outputs": [
        {
          "name": "stdout",
          "output_type": "stream",
          "text": [
            "Original Chain Code: [7, 6, 6, 7, 6, 7, 7, 7, 7, 7, 7, 0, 7, 0, 0, 7, 0, 0, 0, 0, 0, 0, 1, 0, 0, 1, 0, 1, 1, 1, 1, 1, 1, 2, 1, 2, 2, 1, 2, 2, 2, 2, 2, 2, 3, 2, 2, 3, 2, 1, 0, 0, 7, 0, 0, 7, 0, 7, 7, 7, 6, 6, 7, 6, 6, 6, 6, 5, 6, 6, 5, 5, 4, 5, 6, 5, 7, 6, 0, 7, 0, 1, 0, 1, 0, 1, 1, 2, 1, 2, 2, 1, 2, 2, 2, 2, 2, 2, 2, 2, 3, 2, 2, 3, 2, 3, 3, 3, 4, 3, 3, 4, 3, 4, 4, 3, 4, 4, 4, 4, 3, 4, 4, 4, 4, 4, 4, 4, 4, 4, 4, 4, 4, 4, 4, 4, 5, 4, 4, 4, 5, 4, 4, 5, 5, 5, 5, 5, 5, 6, 5, 6, 6, 5, 6, 6, 6, 6, 6]\n"
          ]
        }
      ],
      "source": [
        "directions = {\n",
        "    (0, 1): 0,  (1, 1): 1,  (1, 0): 2,  (1, -1): 3,\n",
        "    (0, -1): 4, (-1, -1): 5, (-1, 0): 6, (-1, 1): 7\n",
        "}\n",
        "\n",
        "chain_code = []\n",
        "if contours:\n",
        "    contour = contours[0]\n",
        "    for i in range(1, len(contour)):\n",
        "        x1, y1 = contour[i-1][0]\n",
        "        x2, y2 = contour[i][0]\n",
        "        border_image[y1, x1] = (0, 255, 0)\n",
        "        dx = x2 - x1\n",
        "        dy = y2 - y1\n",
        "        if (dx, dy) in directions:\n",
        "            chain_code.append(directions[(dx, dy)])\n",
        "\n",
        "    print(\"Original Chain Code:\", chain_code)\n",
        "else:\n",
        "    print(\"No contours found.\")"
      ]
    },
    {
      "cell_type": "markdown",
      "metadata": {},
      "source": [
        "\n",
        "\n",
        "### Downsample Chain Code\n"
      ]
    },
    {
      "cell_type": "code",
      "execution_count": 35,
      "metadata": {},
      "outputs": [
        {
          "name": "stdout",
          "output_type": "stream",
          "text": [
            "Downsampled Chain Code: [7, 7, 1, 2, 6, 5, 2, 3, 3, 4, 5]\n"
          ]
        }
      ],
      "source": [
        "if chain_code:\n",
        "    max_order = 10\n",
        "    step = max(1, len(chain_code) // max_order)\n",
        "    downsampled_code = chain_code[::step]\n",
        "    print(\"Downsampled Chain Code:\", downsampled_code)"
      ]
    },
    {
      "cell_type": "markdown",
      "metadata": {},
      "source": [
        "\n",
        "\n",
        "### Calculate First Difference and Shape Number\n"
      ]
    },
    {
      "cell_type": "code",
      "execution_count": 36,
      "metadata": {},
      "outputs": [
        {
          "name": "stdout",
          "output_type": "stream",
          "text": [
            "First Difference: [0, 2, 1, 4, 7, 5, 1, 0, 1, 1]\n",
            "Shape Number: [0, 1, 1, 0, 2, 1, 4, 7, 5, 1]\n"
          ]
        }
      ],
      "source": [
        "if chain_code:\n",
        "    first_difference = [(downsampled_code[i] - downsampled_code[i-1]) % 8 for i in range(1, len(downsampled_code))]\n",
        "    print(\"First Difference:\", first_difference)\n",
        "\n",
        "    rotations = [first_difference[i:] + first_difference[:i] for i in range(len(first_difference))]\n",
        "    shape_number = min(rotations)\n",
        "    print(\"Shape Number:\", shape_number)"
      ]
    },
    {
      "cell_type": "markdown",
      "metadata": {},
      "source": [
        "\n",
        "\n",
        "### Visualize Results\n"
      ]
    },
    {
      "cell_type": "code",
      "execution_count": 37,
      "metadata": {},
      "outputs": [
        {
          "data": {
            "image/png": "[encoded data removed]",
            "text/plain": [
              "<Figure size 1000x500 with 2 Axes>"
            ]
          },
          "metadata": {},
          "output_type": "display_data"
        }
      ],
      "source": [
        "if chain_code:\n",
        "    plt.figure(figsize=(10, 5))\n",
        "\n",
        "    plt.subplot(1, 2, 1)\n",
        "    plt.imshow(digit, cmap='gray')\n",
        "    plt.title(\"Original Digit 5\")\n",
        "    plt.axis('off')\n",
        "\n",
        "    plt.subplot(1, 2, 2)\n",
        "    plt.imshow(border_image)\n",
        "    plt.title(\"Highlighted Boundary\")\n",
        "    plt.axis('off')\n",
        "\n",
        "    plt.show()"
      ]
    }
  ],
  "metadata": {
    "colab": {
      "provenance": []
    },
    "kernelspec": {
      "display_name": "Python 3",
      "name": "python3"
    },
    "language_info": {
      "codemirror_mode": {
        "name": "ipython",
        "version": 3
      },
      "file_extension": ".py",
      "mimetype": "text/x-python",
      "name": "python",
      "nbconvert_exporter": "python",
      "pygments_lexer": "ipython3",
      "version": "3.10.0"
    }
  },
  "nbformat": 4,
  "nbformat_minor": 0
}
