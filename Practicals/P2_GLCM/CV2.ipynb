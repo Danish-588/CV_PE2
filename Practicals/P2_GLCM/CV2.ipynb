{
  "cells": [
    {
      "cell_type": "code",
      "execution_count": 2,
      "metadata": {
        "id": "YgmFzv2QIY57"
      },
      "outputs": [],
      "source": [
        "### Import required libraries\n",
        "import cv2\n",
        "import numpy as np\n",
        "import matplotlib.pyplot as plt\n",
        "from skimage import io, color, img_as_ubyte, feature"
      ]
    },
    {
      "cell_type": "markdown",
      "metadata": {},
      "source": [
        "Basic Operations (Grayscale)"
      ]
    },
    {
      "cell_type": "code",
      "execution_count": 3,
      "metadata": {
        "id": "w8BCtrPVKSc5"
      },
      "outputs": [],
      "source": [
        "\n",
        "# Load image and convert to grayscale\n",
        "image = cv2.imread(r'C:\\Users\\danis\\OneDrive\\Documents\\Repos\\CV_PE2\\Practicals\\P2_GLCM\\data\\sample_image.jpg')  # Replace with the correct image path\n",
        "cv2.imshow('Original Image', image)\n",
        "grayscale_image = color.rgb2gray(image)\n",
        "\n",
        "# Convert grayscale image to integer values\n",
        "grayscale_image = (grayscale_image * 255).astype(np.uint8)\n",
        "\n",
        "# Calculate the GLCM matrix (with distance 1 and angle 0 degrees)\n",
        "glcm = feature.graycomatrix(grayscale_image, distances=[1], angles=[0], symmetric=True, normed=True)\n",
        "\n",
        "# Calculate GLCM properties (contrast, correlation, energy, homogeneity)\n",
        "contrast = feature.graycoprops(glcm, prop='contrast')\n",
        "correlation = feature.graycoprops(glcm, prop='correlation')\n",
        "energy = feature.graycoprops(glcm, prop='energy')\n",
        "homogeneity = feature.graycoprops(glcm, prop='homogeneity')\n"
      ]
    },
    {
      "cell_type": "code",
      "execution_count": 16,
      "metadata": {
        "colab": {
          "base_uri": "https://localhost:8080/",
          "height": 418
        },
        "id": "bwlz1A5GIjz6",
        "outputId": "452be03f-e69b-4774-896b-96d0d572ea27"
      },
      "outputs": [
        {
          "name": "stdout",
          "output_type": "stream",
          "text": [
            "GLCM Contrast: [[256.61325835]]\n",
            "GLCM Correlation: [[0.9244617]]\n",
            "GLCM Energy: [[0.05213399]]\n",
            "GLCM Homogeneity: [[0.45109462]]\n"
          ]
        },
        {
          "ename": "error",
          "evalue": "OpenCV(4.11.0) :-1: error: (-5:Bad argument) in function 'imshow'\n> Overload resolution failed:\n>  - imshow() missing required argument 'mat' (pos 2)\n>  - imshow() missing required argument 'mat' (pos 2)\n>  - imshow() missing required argument 'mat' (pos 2)\n",
          "output_type": "error",
          "traceback": [
            "\u001b[1;31m---------------------------------------------------------------------------\u001b[0m",
            "\u001b[1;31merror\u001b[0m                                     Traceback (most recent call last)",
            "Cell \u001b[1;32mIn[16], line 8\u001b[0m\n\u001b[0;32m      5\u001b[0m \u001b[38;5;28mprint\u001b[39m(\u001b[38;5;124m\"\u001b[39m\u001b[38;5;124mGLCM Homogeneity:\u001b[39m\u001b[38;5;124m\"\u001b[39m, homogeneity)\n\u001b[0;32m      7\u001b[0m \u001b[38;5;66;03m# Visualize GLCM matrix\u001b[39;00m\n\u001b[1;32m----> 8\u001b[0m \u001b[43mcv2\u001b[49m\u001b[38;5;241;43m.\u001b[39;49m\u001b[43mimshow\u001b[49m\u001b[43m(\u001b[49m\u001b[43mimage\u001b[49m\u001b[43m)\u001b[49m\n",
            "\u001b[1;31merror\u001b[0m: OpenCV(4.11.0) :-1: error: (-5:Bad argument) in function 'imshow'\n> Overload resolution failed:\n>  - imshow() missing required argument 'mat' (pos 2)\n>  - imshow() missing required argument 'mat' (pos 2)\n>  - imshow() missing required argument 'mat' (pos 2)\n"
          ]
        }
      ],
      "source": [
        "# Print the properties\n",
        "print(\"GLCM Contrast:\", contrast)\n",
        "print(\"GLCM Correlation:\", correlation)\n",
        "print(\"GLCM Energy:\", energy)\n",
        "print(\"GLCM Homogeneity:\", homogeneity)\n",
        "\n",
        "# Visualize GLCM matrix\n",
        "plt.imshow(glcm[:, :, 0, 0], cmap='gray')  # Display first GLCM matrix\n",
        "plt.title(\"GLCM Matrix\")\n",
        "plt.colorbar()\n",
        "plt.show()"
      ]
    }
  ],
  "metadata": {
    "colab": {
      "provenance": []
    },
    "kernelspec": {
      "display_name": "Python 3",
      "name": "python3"
    },
    "language_info": {
      "codemirror_mode": {
        "name": "ipython",
        "version": 3
      },
      "file_extension": ".py",
      "mimetype": "text/x-python",
      "name": "python",
      "nbconvert_exporter": "python",
      "pygments_lexer": "ipython3",
      "version": "3.10.0"
    }
  },
  "nbformat": 4,
  "nbformat_minor": 0
}
